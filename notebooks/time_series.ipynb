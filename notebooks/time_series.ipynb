{
 "cells": [
  {
   "cell_type": "code",
   "execution_count": null,
   "id": "8173eeb2",
   "metadata": {},
   "outputs": [],
   "source": [
    "import pathlib\n",
    "\n",
    "import matplotlib.pyplot as plt\n",
    "import pandas as pd\n",
    "from matplotlib.ticker import PercentFormatter"
   ]
  },
  {
   "cell_type": "code",
   "execution_count": null,
   "id": "2cf26cdd",
   "metadata": {},
   "outputs": [],
   "source": [
    "root = pathlib.Path().resolve().parent\n",
    "output_dir = root / \"out\"\n",
    "metrics_file = output_dir / \"metrics.csv\"\n",
    "\n",
    "df = pd.read_csv(metrics_file)\n",
    "df[\"date\"] = pd.to_datetime(df[\"date\"])\n",
    "\n",
    "# Convert percentage strings (e.g. \"2.58%\") into floats so plotting works\n",
    "percent_cols = [col for col in df.columns if col.endswith(\"_percent\")]\n",
    "for col in percent_cols:\n",
    "    df[col] = pd.to_numeric(df[col].str.rstrip(\"%\"), errors=\"coerce\")"
   ]
  },
  {
   "cell_type": "code",
   "execution_count": null,
   "id": "15b26388",
   "metadata": {},
   "outputs": [],
   "source": [
    "# lets create a time series plot of the metrics\n",
    "plt.figure(figsize=(12, 6))\n",
    "\n",
    "series_to_plot: list[str] = [\n",
    "    \"weighted_mean_percent\",\n",
    "    \"weighted_median_percent\",\n",
    "    \"trimmed_mean_percent\",\n",
    "    \"weighted_kde_mode_percent\",\n",
    "]\n",
    "for series in series_to_plot:\n",
    "    plt.plot(df[\"date\"], df[series], label=series)\n",
    "\n",
    "plt.legend()\n",
    "plt.title(\"Time Series of Metrics\")\n",
    "plt.xlabel(\"Date\")\n",
    "plt.ylabel(\"Percentage\")\n",
    "\n",
    "ax = plt.gca()\n",
    "ax.yaxis.set_major_formatter(PercentFormatter(xmax=100, decimals=1))\n",
    "ymin = df[series_to_plot].min().min()\n",
    "ymax = df[series_to_plot].max().max()\n",
    "ax.set_ylim(ymin - 0.5, ymax + 0.5)\n",
    "\n",
    "plt.grid(True)\n",
    "plt.show()"
   ]
  }
 ],
 "metadata": {
  "kernelspec": {
   "display_name": "Python 3",
   "language": "python",
   "name": "python3"
  },
  "language_info": {
   "codemirror_mode": {
    "name": "ipython",
    "version": 3
   },
   "file_extension": ".py",
   "mimetype": "text/x-python",
   "name": "python",
   "nbconvert_exporter": "python",
   "pygments_lexer": "ipython3",
   "version": "3.13.3"
  }
 },
 "nbformat": 4,
 "nbformat_minor": 5
}
